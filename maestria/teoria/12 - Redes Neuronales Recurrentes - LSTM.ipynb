{
  "cells": [
    {
      "cell_type": "markdown",
      "metadata": {},
      "source": [
        "<a href=\"https://colab.research.google.com/github/dieguito1331/cienciaDatos/blob/master/maestria/teoria/12 - Redes Neuronales Recurrentes - LSTM.ipynb\" target=\"_parent\"><img src=\"https://colab.research.google.com/assets/colab-badge.svg\" alt=\"Open In Colab\"/></a>"
      ]
    },
    {
      "cell_type": "markdown",
      "metadata": {
        "id": "50SnzIVMuZc5"
      },
      "source": [
        "# Redes Neuronales Recurrentes (RNN)"
      ]
    },
    {
      "cell_type": "markdown",
      "metadata": {
        "id": "xaJ3O60QuYSd"
      },
      "source": [
        "\n",
        "Dentro del Deep Learning existen muchas arquitecturas y cada una de ellas resuelve algún problema en particular. \n",
        "\n",
        "Las redes neuronales recurrentes (RNN) son un tipo de red neuronal. Las redes neuronales son una parte importante dentro del Deep Leanring que, a su vez, es un tipo de aprendizaje automático, uno de los campos de estudio de la Inteligencia Artificial. Este tipo de redes neuronales está especializado en el procesamiento de datos secuenciales o series temporales.\n",
        "\n",
        "¿Qué quiere decir esto? Pues que una RNN puede ayudar en la elaboración de modelos predictivos a partir de una secuencia de datos históricos. Un ejemplo de ello puede ser la elaboración de un modelo predictivo del volumen de ventas de una empresa. Esto podría ayudar a controlar mejor el stock y mejorar los procesos de producción de la compañía.\n",
        "\n",
        "La arquitectura de las redes neuronales recurrentes facilita que el programa o aplicación desarrollado con ellas pueda recordar y olvidar la información que procesa. De esta manera, este tipo de modelo de machine learning es capaz de recordar datos procesados al principio de la secuenciación para asociarlos con datos nuevos que va analizando.\n",
        "\n",
        "Esto hace que la s redes neuronales recurrentes también sean especialmente útiles para la creación de texto. Y es que, son capaces de analizar fragmentos de texto y generar nuevos contenidos a partir de ello. Así, una de sus aplicaciones la está encontrando en el desarrollo de aplicaciones de texto predictivo.\n",
        "\n",
        "Para ver una explicación completa de las redes neuronales LSTM haga click [aqui](https://youtu.be/1BubAvTVBYs)"
      ]
    },
    {
      "cell_type": "code",
      "execution_count": 2,
      "metadata": {
        "id": "KwqdMRLmw1Zj"
      },
      "outputs": [],
      "source": [
        "import pandas as pd\n",
        "import numpy as np\n",
        "import os\n",
        "from google.colab import drive\n",
        "import matplotlib.pyplot as plt\n",
        "\n",
        "from sklearn.preprocessing import MinMaxScaler\n",
        "\n",
        "\n",
        "\n",
        "from keras.models import Sequential\n",
        "from keras.layers import Dense, LSTM\n"
      ]
    },
    {
      "cell_type": "code",
      "execution_count": 3,
      "metadata": {
        "id": "QlnI-9viNuzG"
      },
      "outputs": [],
      "source": []
    },
    {
      "cell_type": "code",
      "execution_count": 140,
      "metadata": {
        "colab": {
          "base_uri": "https://localhost:8080/"
        },
        "id": "XvBfrr-T0naf",
        "outputId": "07bfe158-c41a-4c58-8e65-4518114d1b6b"
      },
      "outputs": [
        {
          "name": "stdout",
          "output_type": "stream",
          "text": [
            "Drive already mounted at /content/drive; to attempt to forcibly remount, call drive.mount(\"/content/drive\", force_remount=True).\n"
          ]
        }
      ],
      "source": [
        "#Levanto drive para poder almacenar los archivos\n",
        "drive.mount(\"/content/drive\")\n",
        "contentFolder = \"/content/drive/MyDrive/Austral - Data Mining\"\n",
        "if not os.path.exists(contentFolder):\n",
        "    os.mkdir(contentFolder)"
      ]
    },
    {
      "cell_type": "markdown",
      "metadata": {
        "id": "sF2tqqpi4n_q"
      },
      "source": [
        "### Levantamos el archivo y dividimos en train y test usando train los datos del 2016 y para test 2017"
      ]
    },
    {
      "cell_type": "code",
      "execution_count": 141,
      "metadata": {
        "colab": {
          "base_uri": "https://localhost:8080/",
          "height": 238
        },
        "id": "ad34m8t90keF",
        "outputId": "527c03aa-e982-47cf-af35-7e61bbd70777"
      },
      "outputs": [
        {
          "data": {
            "text/html": [
              "\n",
              "  <div id=\"df-db173807-4d59-450e-93d7-661efe4c8b3a\">\n",
              "    <div class=\"colab-df-container\">\n",
              "      <div>\n",
              "<style scoped>\n",
              "    .dataframe tbody tr th:only-of-type {\n",
              "        vertical-align: middle;\n",
              "    }\n",
              "\n",
              "    .dataframe tbody tr th {\n",
              "        vertical-align: top;\n",
              "    }\n",
              "\n",
              "    .dataframe thead th {\n",
              "        text-align: right;\n",
              "    }\n",
              "</style>\n",
              "<table border=\"1\" class=\"dataframe\">\n",
              "  <thead>\n",
              "    <tr style=\"text-align: right;\">\n",
              "      <th></th>\n",
              "      <th>Open</th>\n",
              "      <th>High</th>\n",
              "      <th>Low</th>\n",
              "      <th>Close</th>\n",
              "      <th>Volume</th>\n",
              "      <th>Name</th>\n",
              "    </tr>\n",
              "    <tr>\n",
              "      <th>Date</th>\n",
              "      <th></th>\n",
              "      <th></th>\n",
              "      <th></th>\n",
              "      <th></th>\n",
              "      <th></th>\n",
              "      <th></th>\n",
              "    </tr>\n",
              "  </thead>\n",
              "  <tbody>\n",
              "    <tr>\n",
              "      <th>2006-01-03</th>\n",
              "      <td>10.34</td>\n",
              "      <td>10.68</td>\n",
              "      <td>10.32</td>\n",
              "      <td>10.68</td>\n",
              "      <td>201853036</td>\n",
              "      <td>AAPL</td>\n",
              "    </tr>\n",
              "    <tr>\n",
              "      <th>2006-01-04</th>\n",
              "      <td>10.73</td>\n",
              "      <td>10.85</td>\n",
              "      <td>10.64</td>\n",
              "      <td>10.71</td>\n",
              "      <td>155225609</td>\n",
              "      <td>AAPL</td>\n",
              "    </tr>\n",
              "    <tr>\n",
              "      <th>2006-01-05</th>\n",
              "      <td>10.69</td>\n",
              "      <td>10.70</td>\n",
              "      <td>10.54</td>\n",
              "      <td>10.63</td>\n",
              "      <td>112396081</td>\n",
              "      <td>AAPL</td>\n",
              "    </tr>\n",
              "    <tr>\n",
              "      <th>2006-01-06</th>\n",
              "      <td>10.75</td>\n",
              "      <td>10.96</td>\n",
              "      <td>10.65</td>\n",
              "      <td>10.90</td>\n",
              "      <td>176139334</td>\n",
              "      <td>AAPL</td>\n",
              "    </tr>\n",
              "    <tr>\n",
              "      <th>2006-01-09</th>\n",
              "      <td>10.96</td>\n",
              "      <td>11.03</td>\n",
              "      <td>10.82</td>\n",
              "      <td>10.86</td>\n",
              "      <td>168861224</td>\n",
              "      <td>AAPL</td>\n",
              "    </tr>\n",
              "  </tbody>\n",
              "</table>\n",
              "</div>\n",
              "      <button class=\"colab-df-convert\" onclick=\"convertToInteractive('df-db173807-4d59-450e-93d7-661efe4c8b3a')\"\n",
              "              title=\"Convert this dataframe to an interactive table.\"\n",
              "              style=\"display:none;\">\n",
              "        \n",
              "  <svg xmlns=\"http://www.w3.org/2000/svg\" height=\"24px\"viewBox=\"0 0 24 24\"\n",
              "       width=\"24px\">\n",
              "    <path d=\"M0 0h24v24H0V0z\" fill=\"none\"/>\n",
              "    <path d=\"M18.56 5.44l.94 2.06.94-2.06 2.06-.94-2.06-.94-.94-2.06-.94 2.06-2.06.94zm-11 1L8.5 8.5l.94-2.06 2.06-.94-2.06-.94L8.5 2.5l-.94 2.06-2.06.94zm10 10l.94 2.06.94-2.06 2.06-.94-2.06-.94-.94-2.06-.94 2.06-2.06.94z\"/><path d=\"M17.41 7.96l-1.37-1.37c-.4-.4-.92-.59-1.43-.59-.52 0-1.04.2-1.43.59L10.3 9.45l-7.72 7.72c-.78.78-.78 2.05 0 2.83L4 21.41c.39.39.9.59 1.41.59.51 0 1.02-.2 1.41-.59l7.78-7.78 2.81-2.81c.8-.78.8-2.07 0-2.86zM5.41 20L4 18.59l7.72-7.72 1.47 1.35L5.41 20z\"/>\n",
              "  </svg>\n",
              "      </button>\n",
              "      \n",
              "  <style>\n",
              "    .colab-df-container {\n",
              "      display:flex;\n",
              "      flex-wrap:wrap;\n",
              "      gap: 12px;\n",
              "    }\n",
              "\n",
              "    .colab-df-convert {\n",
              "      background-color: #E8F0FE;\n",
              "      border: none;\n",
              "      border-radius: 50%;\n",
              "      cursor: pointer;\n",
              "      display: none;\n",
              "      fill: #1967D2;\n",
              "      height: 32px;\n",
              "      padding: 0 0 0 0;\n",
              "      width: 32px;\n",
              "    }\n",
              "\n",
              "    .colab-df-convert:hover {\n",
              "      background-color: #E2EBFA;\n",
              "      box-shadow: 0px 1px 2px rgba(60, 64, 67, 0.3), 0px 1px 3px 1px rgba(60, 64, 67, 0.15);\n",
              "      fill: #174EA6;\n",
              "    }\n",
              "\n",
              "    [theme=dark] .colab-df-convert {\n",
              "      background-color: #3B4455;\n",
              "      fill: #D2E3FC;\n",
              "    }\n",
              "\n",
              "    [theme=dark] .colab-df-convert:hover {\n",
              "      background-color: #434B5C;\n",
              "      box-shadow: 0px 1px 3px 1px rgba(0, 0, 0, 0.15);\n",
              "      filter: drop-shadow(0px 1px 2px rgba(0, 0, 0, 0.3));\n",
              "      fill: #FFFFFF;\n",
              "    }\n",
              "  </style>\n",
              "\n",
              "      <script>\n",
              "        const buttonEl =\n",
              "          document.querySelector('#df-db173807-4d59-450e-93d7-661efe4c8b3a button.colab-df-convert');\n",
              "        buttonEl.style.display =\n",
              "          google.colab.kernel.accessAllowed ? 'block' : 'none';\n",
              "\n",
              "        async function convertToInteractive(key) {\n",
              "          const element = document.querySelector('#df-db173807-4d59-450e-93d7-661efe4c8b3a');\n",
              "          const dataTable =\n",
              "            await google.colab.kernel.invokeFunction('convertToInteractive',\n",
              "                                                     [key], {});\n",
              "          if (!dataTable) return;\n",
              "\n",
              "          const docLinkHtml = 'Like what you see? Visit the ' +\n",
              "            '<a target=\"_blank\" href=https://colab.research.google.com/notebooks/data_table.ipynb>data table notebook</a>'\n",
              "            + ' to learn more about interactive tables.';\n",
              "          element.innerHTML = '';\n",
              "          dataTable['output_type'] = 'display_data';\n",
              "          await google.colab.output.renderOutput(dataTable, element);\n",
              "          const docLink = document.createElement('div');\n",
              "          docLink.innerHTML = docLinkHtml;\n",
              "          element.appendChild(docLink);\n",
              "        }\n",
              "      </script>\n",
              "    </div>\n",
              "  </div>\n",
              "  "
            ],
            "text/plain": [
              "             Open   High    Low  Close     Volume  Name\n",
              "Date                                                   \n",
              "2006-01-03  10.34  10.68  10.32  10.68  201853036  AAPL\n",
              "2006-01-04  10.73  10.85  10.64  10.71  155225609  AAPL\n",
              "2006-01-05  10.69  10.70  10.54  10.63  112396081  AAPL\n",
              "2006-01-06  10.75  10.96  10.65  10.90  176139334  AAPL\n",
              "2006-01-09  10.96  11.03  10.82  10.86  168861224  AAPL"
            ]
          },
          "execution_count": 141,
          "metadata": {},
          "output_type": "execute_result"
        }
      ],
      "source": [
        "data = pd.read_csv(\"https://raw.githubusercontent.com/codificandobits/Prediccion_de_acciones_en_la_bolsa_con_redes_LSTM/master/AAPL_2006-01-01_to_2018-01-01.csv\", index_col='Date', parse_dates=['Date']) #[:100]\n",
        "#data = pd.read_csv(\"{}/AAPL_2006-01-01_to_2018-01-01.csv\".format(contentFolder), index_col='Date', parse_dates=['Date'])\n",
        "data.head()"
      ]
    },
    {
      "cell_type": "code",
      "execution_count": 142,
      "metadata": {
        "colab": {
          "base_uri": "https://localhost:8080/"
        },
        "id": "Vg8ev-7L1MX-",
        "outputId": "6fd0c460-6538-4a61-a702-dc9e7220d01f"
      },
      "outputs": [
        {
          "data": {
            "text/plain": [
              "3019"
            ]
          },
          "execution_count": 142,
          "metadata": {},
          "output_type": "execute_result"
        }
      ],
      "source": [
        "len(data)"
      ]
    },
    {
      "cell_type": "code",
      "execution_count": 143,
      "metadata": {
        "id": "UgBFSBYF1hDU"
      },
      "outputs": [],
      "source": [
        "train = data[:\"2016\"].iloc[:,1:2]\n",
        "test = data[\"2017\":].iloc[:,1:2]"
      ]
    },
    {
      "cell_type": "markdown",
      "metadata": {
        "id": "VCVUsE0C20Lf"
      },
      "source": [
        "### Graficamos el valor de la accion en el tiempo "
      ]
    },
    {
      "cell_type": "code",
      "execution_count": 144,
      "metadata": {
        "colab": {
          "base_uri": "https://localhost:8080/",
          "height": 269
        },
        "id": "AlJaiHu81061",
        "outputId": "a5a25d07-8bb7-48dc-8743-e0133f48b6e6"
      },
      "outputs": [
        {
          "data": {
            "image/png": "[encoded data removed]",
            "text/plain": [
              "<Figure size 432x288 with 1 Axes>"
            ]
          },
          "metadata": {
            "needs_background": "light"
          },
          "output_type": "display_data"
        }
      ],
      "source": [
        "train['High'].plot(legend=True)\n",
        "test['High'].plot(legend=True)\n",
        "plt.legend(['Entrenamiento (2006-2016)', 'Validación (2017)'])\n",
        "plt.show()\n"
      ]
    },
    {
      "cell_type": "markdown",
      "metadata": {
        "id": "rPF_p2Rj4yj8"
      },
      "source": [
        "### Normalizacion de los datos\n",
        "Si observamos los datos de la accion podemos ver que la misma posee un comportamiento creciente"
      ]
    },
    {
      "cell_type": "code",
      "execution_count": 145,
      "metadata": {
        "id": "zzp1oqmB2nDk"
      },
      "outputs": [],
      "source": [
        "# Normalización del set de entrenamiento\n",
        "sc = MinMaxScaler(feature_range=(0,1))\n",
        "train_scaled = sc.fit_transform(train)"
      ]
    },
    {
      "cell_type": "code",
      "execution_count": 146,
      "metadata": {
        "colab": {
          "base_uri": "https://localhost:8080/",
          "height": 269
        },
        "id": "QASBJu1R31hj",
        "outputId": "152210c2-8130-41b6-dbf5-916dc5b8eb02"
      },
      "outputs": [
        {
          "data": {
            "image/png": "[encoded data removed]",
            "text/plain": [
              "<Figure size 432x288 with 1 Axes>"
            ]
          },
          "metadata": {
            "needs_background": "light"
          },
          "output_type": "display_data"
        }
      ],
      "source": [
        "aux = train\n",
        "aux[\"high_scaled\"] = train_scaled\n",
        "aux[[\"high_scaled\"]].plot(legend=True)\n",
        "plt.show()\n",
        "del aux"
      ]
    },
    {
      "cell_type": "markdown",
      "metadata": {
        "id": "83JNqUA86K9A"
      },
      "source": [
        "#Armamos los datos para entrenar.\n",
        "Armamos los data sets X_train e y_train.\n",
        "Para entrenar la Red LSTM en nuestro caso tomaremos bloques de 60 datos consecutivos y la idea es que se pueda predecir el siguiente valor.\n",
        "\n",
        "Los bloques de 60 datos se almacenan en X_train y el dato a predecir se almacenara en y_train\n",
        "\n"
      ]
    },
    {
      "cell_type": "code",
      "execution_count": 148,
      "metadata": {
        "id": "-3KZAM2W34Tt"
      },
      "outputs": [],
      "source": [
        "time_step = 60\n",
        "indexes = []\n",
        "X_train = []\n",
        "y_train = []\n",
        "m = len(train_scaled)\n",
        "ventana = 0\n",
        "for i in range(time_step,m-ventana):\n",
        "  X_train.append(train_scaled[i-time_step:i,0])\n",
        "  y_train.append(train_scaled[i+ventana,0])\n",
        "  indexes.append(train.index[i+ventana])\n",
        "X_train, Y_train = np.array(X_train), np.array(y_train)\n",
        "# Reshape X_train para que se ajuste al modelo en Keras\n",
        "X_train = np.reshape(X_train, (X_train.shape[0], X_train.shape[1], 1))"
      ]
    },
    {
      "cell_type": "markdown",
      "metadata": {
        "id": "U2IKUq2C-Pnd"
      },
      "source": [
        "### Creamos el modelo y lo entrenamos\n",
        "El modelo constara de:\n",
        "* Capa de entrada con 60 neuronas (ventana de tiempo que usamos para entrenar)\n",
        "* Una capa LSTM de 50 neuronas\n",
        "* Una capa de Salida de 1 neurona"
      ]
    },
    {
      "cell_type": "code",
      "execution_count": 149,
      "metadata": {
        "colab": {
          "base_uri": "https://localhost:8080/"
        },
        "id": "TswQ9ulc7sNd",
        "outputId": "a5ca7ebe-c9f2-4cd6-ab02-cb158262c544"
      },
      "outputs": [
        {
          "name": "stdout",
          "output_type": "stream",
          "text": [
            "Epoch 1/20\n",
            "85/85 [==============================] - 4s 29ms/step - loss: 0.0126\n",
            "Epoch 2/20\n",
            "85/85 [==============================] - 2s 29ms/step - loss: 0.0014\n",
            "Epoch 3/20\n",
            "85/85 [==============================] - 3s 31ms/step - loss: 9.5027e-04\n",
            "Epoch 4/20\n",
            "85/85 [==============================] - 4s 44ms/step - loss: 8.6255e-04\n",
            "Epoch 5/20\n",
            "85/85 [==============================] - 3s 29ms/step - loss: 6.9904e-04\n",
            "Epoch 6/20\n",
            "85/85 [==============================] - 2s 29ms/step - loss: 7.1597e-04\n",
            "Epoch 7/20\n",
            "85/85 [==============================] - 2s 29ms/step - loss: 6.7102e-04\n",
            "Epoch 8/20\n",
            "85/85 [==============================] - 2s 28ms/step - loss: 5.8794e-04\n",
            "Epoch 9/20\n",
            "85/85 [==============================] - 2s 29ms/step - loss: 5.9767e-04\n",
            "Epoch 10/20\n",
            "85/85 [==============================] - 2s 29ms/step - loss: 5.4720e-04\n",
            "Epoch 11/20\n",
            "85/85 [==============================] - 2s 28ms/step - loss: 5.5762e-04\n",
            "Epoch 12/20\n",
            "85/85 [==============================] - 2s 28ms/step - loss: 5.2899e-04\n",
            "Epoch 13/20\n",
            "85/85 [==============================] - 2s 28ms/step - loss: 5.0597e-04\n",
            "Epoch 14/20\n",
            "85/85 [==============================] - 2s 29ms/step - loss: 5.2763e-04\n",
            "Epoch 15/20\n",
            "85/85 [==============================] - 2s 28ms/step - loss: 5.0937e-04\n",
            "Epoch 16/20\n",
            "85/85 [==============================] - 3s 32ms/step - loss: 4.8028e-04\n",
            "Epoch 17/20\n",
            "85/85 [==============================] - 2s 29ms/step - loss: 4.7191e-04\n",
            "Epoch 18/20\n",
            "85/85 [==============================] - 2s 29ms/step - loss: 4.8541e-04\n",
            "Epoch 19/20\n",
            "85/85 [==============================] - 2s 29ms/step - loss: 4.6852e-04\n",
            "Epoch 20/20\n",
            "85/85 [==============================] - 2s 29ms/step - loss: 4.6361e-04\n"
          ]
        },
        {
          "data": {
            "text/plain": [
              "<keras.callbacks.History at 0x7f5b7dd68710>"
            ]
          },
          "execution_count": 149,
          "metadata": {},
          "output_type": "execute_result"
        }
      ],
      "source": [
        "dim_entrada = (X_train.shape[1],1)\n",
        "dim_salida = 1\n",
        "na = 50\n",
        "\n",
        "modelo = Sequential()\n",
        "modelo.add(LSTM(units=na, input_shape=dim_entrada))\n",
        "modelo.add(Dense(units=dim_salida))\n",
        "modelo.compile(optimizer='rmsprop', loss='mse')\n",
        "modelo.fit(X_train,Y_train,epochs=20,batch_size=32)"
      ]
    },
    {
      "cell_type": "markdown",
      "metadata": {
        "id": "tA_uHFlhCs31"
      },
      "source": [
        "# Predecimos y graficamos"
      ]
    },
    {
      "cell_type": "code",
      "execution_count": 150,
      "metadata": {
        "id": "HVVC9picCtQD"
      },
      "outputs": [],
      "source": [
        "def graficar_predicciones(real, prediccion, indices):\n",
        "    plt.plot(pd.DataFrame(real, index= indices),color='red', label='Valor real de la acción')\n",
        "    plt.plot(pd.DataFrame(prediccion, index = indices), color='blue', label='Predicción de la acción')\n",
        "    plt.ylim(1.1 * np.min(prediccion)/2, 1.1 * np.max(prediccion))\n",
        "    plt.xlabel('Tiempo')\n",
        "    plt.xticks(rotation=45)\n",
        "    plt.ylabel('Valor de la acción')\n",
        "    plt.legend()\n",
        "    plt.show()"
      ]
    },
    {
      "cell_type": "code",
      "execution_count": 151,
      "metadata": {
        "id": "rDv7E219DY2r"
      },
      "outputs": [],
      "source": [
        "X_test = []\n",
        "y_test = []\n",
        "indexes = []\n",
        "test_scaled = sc.transform(test)\n",
        "m = len(test)\n",
        "ventana = 0\n",
        "X_test = []\n",
        "for i in range(time_step,m-ventana):\n",
        "\n",
        "  X_test.append(test_scaled[i-time_step:i,0])\n",
        "  y_test.append(test_scaled[i+ventana,0])\n",
        "  indexes.append(test.index[i+ventana])\n",
        "X_test, Y_test = np.array(X_test), np.array(y_test)\n",
        "\n",
        "prediccion = modelo.predict(X_test)\n",
        "prediccion = sc.inverse_transform(prediccion)\n",
        "Y_test = sc.inverse_transform(Y_test.reshape(-1,1))\n"
      ]
    },
    {
      "cell_type": "code",
      "execution_count": 152,
      "metadata": {
        "colab": {
          "base_uri": "https://localhost:8080/",
          "height": 306
        },
        "id": "fBXtvLOCE6r7",
        "outputId": "38d3cfcc-1f99-4e1d-e594-b3f098a09c29"
      },
      "outputs": [
        {
          "data": {
            "image/png": "[encoded data removed]",
            "text/plain": [
              "<Figure size 432x288 with 1 Axes>"
            ]
          },
          "metadata": {
            "needs_background": "light"
          },
          "output_type": "display_data"
        }
      ],
      "source": [
        "graficar_predicciones(Y_test, prediccion, indexes)"
      ]
    },
    {
      "cell_type": "code",
      "execution_count": 155,
      "metadata": {
        "colab": {
          "base_uri": "https://localhost:8080/"
        },
        "id": "Ty97kuftJVot",
        "outputId": "2a02cece-d890-4717-81d8-1245dae0dc4a"
      },
      "outputs": [
        {
          "data": {
            "text/plain": [
              "49.93575373554265"
            ]
          },
          "execution_count": 155,
          "metadata": {},
          "output_type": "execute_result"
        }
      ],
      "source": [
        "from sklearn.metrics import mean_squared_error\n",
        "mean_squared_error(Y_test, prediccion)\n"
      ]
    }
  ],
  "metadata": {
    "colab": {
      "collapsed_sections": [],
      "provenance": [],
      "toc_visible": true
    },
    "kernelspec": {
      "display_name": "Python 3",
      "name": "python3"
    },
    "language_info": {
      "name": "python"
    }
  },
  "nbformat": 4,
  "nbformat_minor": 0
}
